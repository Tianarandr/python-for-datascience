{
  "nbformat": 4,
  "nbformat_minor": 0,
  "metadata": {
    "colab": {
      "name": "SVM 2.ipynb",
      "provenance": [],
      "collapsed_sections": [],
      "authorship_tag": "ABX9TyP5U0mUMBn01MPYqwAA1HuZ",
      "include_colab_link": true
    },
    "kernelspec": {
      "name": "python3",
      "display_name": "Python 3"
    },
    "language_info": {
      "name": "python"
    }
  },
  "cells": [
    {
      "cell_type": "markdown",
      "metadata": {
        "id": "view-in-github",
        "colab_type": "text"
      },
      "source": [
        "<a href=\"https://colab.research.google.com/github/Tianarandr/python-for-datascience/blob/master/SVM_2.ipynb\" target=\"_parent\"><img src=\"https://colab.research.google.com/assets/colab-badge.svg\" alt=\"Open In Colab\"/></a>"
      ]
    },
    {
      "cell_type": "code",
      "source": [
        "#FONCTION MATRICE DE CONFUSION, PRECISION, RAPPEL, F-MESURE\n",
        "import numpy as np\n",
        "#fonction sous Python qui permet de calculer la matrice de confusion à partir de deux vecteurs 𝑦 et y_estime\n",
        "def comp_confmat(actuel, predicted):\n",
        "    classes = np.unique(actuel) # extraire les differentes classes\n",
        "    matrix = np.zeros((len(classes), len(classes))) # initializer une matrice avec des zeros\n",
        "    \n",
        "    for i in range(len(classes)):\n",
        "        for j in range(len(classes)):\n",
        "            matrix[i, j] = np.sum((actuel == classes[i]) & (predicted == classes[j]))\n",
        "\n",
        "    return matrix\n",
        "\n",
        "# une fonction qui calcule la précision globale.\n",
        "def precision_globale(matriceDeConfusion):\n",
        "    (m,n) = matriceDeConfusion.shape\n",
        "    somme = matriceDeConfusion.sum()\n",
        "    P = 0\n",
        "    \n",
        "    somme_par_row_p = 0\n",
        "    precision_classe_arr = []\n",
        "    somme_par_row = matriceDeConfusion.sum(1)\n",
        "    \n",
        "    \n",
        "    for row in range(m):\n",
        "        for col in range(n):\n",
        "            if row == col:\n",
        "                P += matriceDeConfusion[row][col]\n",
        "                somme_par_row_p += matriceDeConfusion[row][col]\n",
        "        \n",
        "        precision_classe =  somme_par_row_p/somme_par_row[row]\n",
        "        precision_classe_arr.append(precision_classe)\n",
        "        somme_par_row_p = 0\n",
        "    \n",
        "    precision_globale = P/somme\n",
        "    return precision_globale\n",
        "\n",
        "# une fonction qui permet de calculer le rappel globale\n",
        "def rappel_globale(matriceDeConfusion):\n",
        "    (m,n) = matriceDeConfusion.shape\n",
        "    somme = matriceDeConfusion.sum()\n",
        "    P = 0\n",
        "    \n",
        "    somme_par_col = 0\n",
        "    rappel_classe_arr = []\n",
        "    somme_par_col = matriceDeConfusion.sum(0)\n",
        "    \n",
        "    for col in range(n):\n",
        "        for row in range(m):\n",
        "            if row == col:\n",
        "                P += matriceDeConfusion[row][col]\n",
        "                VP = matriceDeConfusion[row][col]\n",
        "        \n",
        "        rappel_classe =  VP/somme_par_col[col]\n",
        "        rappel_classe_arr.append(rappel_classe)\n",
        "        somme_par_row_p = 0\n",
        "    \n",
        "    rappel_globale = P/somme\n",
        "    return rappel_globale\n",
        "\n",
        "# une fonction pour calculer la F-mesure globale.\n",
        "def f_mesure_globale(matrice_conf):\n",
        "    precision = precision_globale(matrice_conf)\n",
        "    rappel = rappel_globale(matrice_conf)\n",
        "    return 2 * ((precision * rappel)/ (precision + rappel))\n",
        "\n"
      ],
      "metadata": {
        "id": "BjyGNncRpMzP"
      },
      "execution_count": null,
      "outputs": []
    },
    {
      "cell_type": "code",
      "execution_count": null,
      "metadata": {
        "id": "sjrkuIFdvShE",
        "outputId": "6622dacb-7562-45ef-81f3-22051cd64fe6",
        "colab": {
          "base_uri": "https://localhost:8080/"
        }
      },
      "outputs": [
        {
          "output_type": "stream",
          "name": "stdout",
          "text": [
            "\n",
            "\n",
            "SVM EN UTILISANT UNE BIBLIOTHEQUE :\n",
            "Taux de bonne classification : 0.9916666666666666\n",
            "Precision : 0.9916666666666666\n",
            "Rapelle : 0.9916666666666666\n",
            "F-mesure : 0.9916666666666666\n",
            "Matrice de confusion: \n",
            " [[ 8  0  0]\n",
            " [ 0  9  2]\n",
            " [ 0  0 11]]\n"
          ]
        }
      ],
      "source": [
        "from sklearn import datasets\n",
        "import numpy as np\n",
        "from sklearn.model_selection import train_test_split, cross_val_score, KFold\n",
        "from sklearn.svm import SVC\n",
        "from sklearn.metrics import confusion_matrix\n",
        "\n",
        "def main():\n",
        "    iris = datasets.load_iris()\n",
        "    X = iris.data\n",
        "    y = iris.target\n",
        "    X_train, X_test, y_train, y_test = train_test_split(X, y, test_size= 0.2, random_state=5)\n",
        "\n",
        "    #4.1 SVM pour classifier les types de fleurs de la base Iris \n",
        "    print(\"\\n\")\n",
        "    print(\"SVM EN UTILISANT UNE BIBLIOTHEQUE :\")\n",
        "    classifier = SVC(kernel = 'linear', random_state = 1)\n",
        "    classifier.fit(X_train, y_train)\n",
        "    cv = KFold(n_splits=10, random_state=1, shuffle=True)\n",
        "    precision = cross_val_score(classifier, X_train, y_train, cv=cv, scoring='precision_micro').mean()\n",
        "    recall= cross_val_score(classifier, X_train, y_train, cv=cv, scoring='recall_micro').mean()\n",
        "    f1 = cross_val_score(classifier, X_train, y_train, cv=cv, scoring='f1_micro').mean()\n",
        "    accuracy = cross_val_score(classifier, X_train, y_train, cv=cv, scoring='accuracy').mean()\n",
        "\n",
        "    print(\"Taux de bonne classification :\", accuracy)\n",
        "    print(\"Precision :\", precision)\n",
        "    print(\"Rapelle :\", recall)\n",
        "    print(\"F-mesure :\", f1)\n",
        "\n",
        "    results_b=classifier.predict(X_test)\n",
        "    #4.3  la matrice de confusion.\n",
        "    print(\"Matrice de confusion: \\n\",confusion_matrix(y_test,results_b))\n",
        "\n",
        "main()\n",
        "\n",
        "\n"
      ]
    }
  ]
}